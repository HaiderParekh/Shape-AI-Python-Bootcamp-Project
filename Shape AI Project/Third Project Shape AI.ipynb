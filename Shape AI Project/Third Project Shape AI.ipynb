{
 "cells": [
  {
   "cell_type": "code",
   "execution_count": null,
   "metadata": {},
   "outputs": [],
   "source": [
    "#Add salting to your hash"
   ]
  },
  {
   "cell_type": "code",
   "execution_count": 12,
   "metadata": {},
   "outputs": [
    {
     "name": "stdout",
     "output_type": "stream",
     "text": [
      "Enter your password: haider parekh\n",
      "365947aabc637c9deed01fe7c38af478061a002867d887af0d30e46c93f3d6116a03fdaa04c1cbc8e58ba2758101c3955e6c60b3912133460c4c18b8ae79bc4d\n"
     ]
    }
   ],
   "source": [
    "import hashlib\n",
    "password = input(\"Enter your password: \")\n",
    "salt = 'shapeai'\n",
    "final_password = password + salt\n",
    "hashed_password = hashlib.sha512(final_password.encode())\n",
    "print(hashed_password.hexdigest())"
   ]
  },
  {
   "cell_type": "code",
   "execution_count": null,
   "metadata": {},
   "outputs": [],
   "source": []
  }
 ],
 "metadata": {
  "kernelspec": {
   "display_name": "Python 3",
   "language": "python",
   "name": "python3"
  },
  "language_info": {
   "codemirror_mode": {
    "name": "ipython",
    "version": 3
   },
   "file_extension": ".py",
   "mimetype": "text/x-python",
   "name": "python",
   "nbconvert_exporter": "python",
   "pygments_lexer": "ipython3",
   "version": "3.8.5"
  }
 },
 "nbformat": 4,
 "nbformat_minor": 4
}
