{
 "cells": [
  {
   "cell_type": "code",
   "execution_count": null,
   "metadata": {},
   "outputs": [],
   "source": [
    "#write a program in pytho to generate hash of a string using 3 algorithms from hashlib."
   ]
  },
  {
   "cell_type": "code",
   "execution_count": 1,
   "metadata": {},
   "outputs": [
    {
     "name": "stdout",
     "output_type": "stream",
     "text": [
      "Enter a sentence you want to convert into hashing algorithm:haider parekh\n",
      "e35a7b43d7610ccc7ac0fecd5ac7ccea\n",
      "7e975d09302e411051278da947334d224c3d92cb\n",
      "0305989de86974d2a34342240a13e0f8aae2664f6072dfd4fa400256832a6820\n",
      "b1a7b5247302cd28f4192fb3348283ac44299bb5fd9cfb305ccdddb6\n",
      "6977488f9cb1287608743c9fd95e67d4126d20aa591d40ce59432e7177d134cddcc03a4786f8e4dc1b4a2fd6f5f6b2db\n",
      "41b4dadbf931bd99d29aa85da8ef2886bf94f2e268ab6f574feb20f4e206366d1315abba33f14bb04d11065dfaca15e950b214b2aa67bc2c405fc26e5e591c41\n"
     ]
    }
   ],
   "source": [
    "import hashlib\n",
    "\n",
    "txtword = input(\"Enter a sentence you want to convert into hashing algorithm:\" )\n",
    "mdalg = hashlib.md5(str(txtword).encode()).hexdigest() #For MD5 hash\n",
    "print(mdalg)\n",
    "shaalg1 = hashlib.sha1(str(txtword).encode()).hexdigest() #For Sha1 hash\n",
    "print(shaalg1)\n",
    "shaalg2 = hashlib.sha256(str(txtword).encode()).hexdigest() #For Sha256 hash\n",
    "print(shaalg2)\n",
    "shaalg3 = hashlib.sha224(str(txtword).encode()).hexdigest() #For Sha224 hash\n",
    "print(shaalg3)\n",
    "shaalg4 = hashlib.sha384(str(txtword).encode()).hexdigest() #For Sha384 hash\n",
    "print(shaalg4)\n",
    "shaalg5 = hashlib.sha512(str(txtword).encode()).hexdigest() #For Sha512 hash\n",
    "print(shaalg5)\n"
   ]
  },
  {
   "cell_type": "code",
   "execution_count": null,
   "metadata": {},
   "outputs": [],
   "source": []
  },
  {
   "cell_type": "code",
   "execution_count": null,
   "metadata": {},
   "outputs": [],
   "source": []
  }
 ],
 "metadata": {
  "kernelspec": {
   "display_name": "Python 3",
   "language": "python",
   "name": "python3"
  },
  "language_info": {
   "codemirror_mode": {
    "name": "ipython",
    "version": 3
   },
   "file_extension": ".py",
   "mimetype": "text/x-python",
   "name": "python",
   "nbconvert_exporter": "python",
   "pygments_lexer": "ipython3",
   "version": "3.8.5"
  }
 },
 "nbformat": 4,
 "nbformat_minor": 4
}
